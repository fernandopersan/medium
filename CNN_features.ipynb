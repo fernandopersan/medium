{
  "nbformat": 4,
  "nbformat_minor": 0,
  "metadata": {
    "colab": {
      "name": "CNN_features.ipynb",
      "provenance": []
    },
    "kernelspec": {
      "name": "python3",
      "display_name": "Python 3"
    },
    "language_info": {
      "name": "python"
    },
    "accelerator": "GPU"
  },
  "cells": [
    {
      "cell_type": "markdown",
      "metadata": {
        "id": "dFkspt03tT0N"
      },
      "source": [
        "# **Pre-trained ResNet50 feature extraction with SVM classification**\n",
        "\n"
      ]
    },
    {
      "cell_type": "markdown",
      "metadata": {
        "id": "2O3tW5liuSw1"
      },
      "source": [
        "Here, we are going to import all the libraries for our example. From the keras library we will use the cifar10 dataset as data to be analyzed."
      ]
    },
    {
      "cell_type": "code",
      "metadata": {
        "id": "-68p0nt-wS5z"
      },
      "source": [
        "import numpy as np\n",
        "from PIL import Image\n",
        "\n",
        "from keras.datasets import cifar10\n",
        "from keras.models import Model\n",
        "from keras.applications import resnet50\n",
        "\n",
        "from sklearn.decomposition import PCA\n",
        "from sklearn.svm import SVC\n",
        "from sklearn.metrics import accuracy_score"
      ],
      "execution_count": 1,
      "outputs": []
    },
    {
      "cell_type": "markdown",
      "metadata": {
        "id": "twC4g79xwV-N"
      },
      "source": [
        "The function **lowSampleDataset (X, Y)** only reduces the number of examples so that the execution is faster in our example! So, we shuffled the examples and selected 5% of the set of images."
      ]
    },
    {
      "cell_type": "code",
      "metadata": {
        "id": "FZTGW5puwZD8"
      },
      "source": [
        "def lowSampleDataset(X, Y):\n",
        "    perm = np.random.permutation(X.shape[0])\n",
        "    X = X[perm[0 : (int)(X.shape[0] * (5/100))]]\n",
        "    Y = Y[perm[0 : (int)(Y.shape[0] * (5/100))]]\n",
        "    return X, Y"
      ],
      "execution_count": 2,
      "outputs": []
    },
    {
      "cell_type": "markdown",
      "metadata": {
        "id": "vfl3UGBEtlPr"
      },
      "source": [
        "**Pre-processing:**\n",
        "\n",
        "1.   We load the CIFAR10 dataset\n",
        "2.   We have reduced the number of examples\n",
        "1.   We changed the resolution of the examples\n"
      ]
    },
    {
      "cell_type": "code",
      "metadata": {
        "colab": {
          "base_uri": "https://localhost:8080/"
        },
        "id": "KT4uVSnvtpdp",
        "outputId": "300d56ea-3863-4d58-d416-8843cbe0282d"
      },
      "source": [
        "print(\"Loading CIFAR10 images ...\")\n",
        "(Xtrain, Ytrain), (Xtest, Ytest) = cifar10.load_data()\n",
        "\n",
        "print('\\tOriginal training set shape: ', Xtrain.shape)\n",
        "print('\\tOriginal testing set shape: ', Xtest.shape)\n",
        "\n",
        "print(\"Reducing the dataset size ...\")\n",
        "Xtrain, Ytrain = lowSampleDataset(Xtrain, Ytrain)\n",
        "Xtest, Ytest = lowSampleDataset(Xtest, Ytest)\n",
        "\n",
        "print(\"Changing the dataset resolution ...\")\n",
        "X = []\n",
        "for i in range(0, Xtrain.shape[0]):\n",
        "    X.append(np.array(Image.fromarray(Xtrain[i]).resize(size=(224,224))))\n",
        "Xtrain = np.array(X)\n",
        "\n",
        "X = []\n",
        "for i in range(0, Xtest.shape[0]):\n",
        "    X.append(np.array(Image.fromarray(Xtest[i]).resize(size=(224,224))))\n",
        "Xtest = np.array(X)\n",
        "\n",
        "print('\\tTraining set shape: ', Xtrain.shape)\n",
        "print('\\tTesting set shape: ', Xtest.shape)"
      ],
      "execution_count": 3,
      "outputs": [
        {
          "output_type": "stream",
          "text": [
            "Loading CIFAR10 images ...\n",
            "\tOriginal training set shape:  (50000, 32, 32, 3)\n",
            "\tOriginal testing set shape:  (10000, 32, 32, 3)\n",
            "Reducing the dataset size ...\n",
            "Changing the dataset resolution ...\n",
            "\tTraining set shape:  (2500, 224, 224, 3)\n",
            "\tTesting set shape:  (500, 224, 224, 3)\n"
          ],
          "name": "stdout"
        }
      ]
    },
    {
      "cell_type": "markdown",
      "metadata": {
        "id": "OUB0oik_t2xw"
      },
      "source": [
        "**Feature extraction:**\n",
        "\n",
        "We load the ResNet50 and extract features using the pre-prediction layer (-2)"
      ]
    },
    {
      "cell_type": "code",
      "metadata": {
        "colab": {
          "base_uri": "https://localhost:8080/"
        },
        "id": "eSncVczCt734",
        "outputId": "eb56e6d2-3d01-49ef-a719-de9f2c4c0a03"
      },
      "source": [
        "print(\"Loading the ResNet50-ImageNet model ...\")\n",
        "model = resnet50.ResNet50(include_top=True, weights='imagenet', input_shape=(224, 224, 3), classes=1000)\n",
        "model = Model(inputs=model.input, outputs=model.get_layer(index=-2).output)\n",
        "\n",
        "print(\"Feature extraction ...\")\n",
        "prediction = np.array(model.predict(Xtrain))\n",
        "Xtrain = np.reshape(prediction, (prediction.shape[0], prediction.shape[1]))\n",
        "\n",
        "prediction = np.array(model.predict(Xtest))\n",
        "Xtest = np.reshape(prediction, (prediction.shape[0], prediction.shape[1]))\n",
        "\n",
        "print('\\tFeatures training shape: ', Xtrain.shape)\n",
        "print('\\tFeatures testing shape: ', Xtest.shape)"
      ],
      "execution_count": 4,
      "outputs": [
        {
          "output_type": "stream",
          "text": [
            "Loading the ResNet50-ImageNet model ...\n",
            "Feature extraction ...\n",
            "\tFeatures training shape:  (2500, 2048)\n",
            "\tFeatures testing shape:  (500, 2048)\n"
          ],
          "name": "stdout"
        }
      ]
    },
    {
      "cell_type": "markdown",
      "metadata": {
        "id": "leNKZgnvt_O-"
      },
      "source": [
        "**Prediction:**\n"
      ]
    },
    {
      "cell_type": "code",
      "metadata": {
        "colab": {
          "base_uri": "https://localhost:8080/"
        },
        "id": "k9CRO0nvuBAA",
        "outputId": "f846d148-3fe5-48c9-a556-a31522e2738c"
      },
      "source": [
        "print(\"Classification with Linear SVM ...\")\n",
        "svm = SVC(kernel='linear')\n",
        "svm.fit(Xtrain, np.ravel(Ytrain, order='C'))\n",
        "result = svm.predict(Xtest)\n",
        "\n",
        "acc = accuracy_score(result, np.ravel(Ytest, order='C'))\n",
        "print(\"\\tAccuracy Linear SVM: %0.4f\" % acc)"
      ],
      "execution_count": 5,
      "outputs": [
        {
          "output_type": "stream",
          "text": [
            "Classification with Linear SVM ...\n",
            "\tAccuracy Linear SVM: 0.7880\n"
          ],
          "name": "stdout"
        }
      ]
    }
  ]
}